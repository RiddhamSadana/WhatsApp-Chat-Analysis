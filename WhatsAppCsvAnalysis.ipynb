{
 "cells": [
  {
   "cell_type": "code",
   "execution_count": 1,
   "metadata": {},
   "outputs": [],
   "source": [
    "import pandas as pd\n",
    "import numpy as np\n",
    "import matplotlib.pyplot as plt\n",
    "import seaborn as sns\n"
   ]
  },
  {
   "cell_type": "code",
   "execution_count": 2,
   "metadata": {},
   "outputs": [],
   "source": [
    "df = pd.read_csv('converted_csv.csv')\n",
    "\n",
    "vc = df['Name'].value_counts()\n",
    "names_to_remove = vc[vc<5].index.values\n",
    "df['Name'].loc[df['Name'].isin(names_to_remove)] = np.nan\n",
    "df.dropna(inplace=True)\n",
    "\n",
    "df.reset_index(inplace=True)\n",
    "\n",
    "df['Name'] = df['Name'].str.strip()\n",
    "df['Text'] = df['Text'].str.strip()\n",
    "df['Time'] = df['Time'].str.strip()\n",
    "\n",
    "deleted = df['Text'] == 'DeletedMsg'\n",
    "deleted_counts = df[deleted]['Name'].value_counts()\n",
    "dic = dict(deleted_counts)\n",
    "\n",
    "names = list(dic.keys())[:5]\n",
    "messages = list(dic.values())[:5]"
   ]
  },
  {
   "cell_type": "code",
   "execution_count": 3,
   "metadata": {},
   "outputs": [
    {
     "data": {
      "text/plain": [
       "([0, 1, 2, 3, 4], <a list of 5 Text major ticklabel objects>)"
      ]
     },
     "execution_count": 3,
     "metadata": {},
     "output_type": "execute_result"
    },
    {
     "data": {
      "image/png": "[encoded data removed]",
      "text/plain": [
       "<Figure size 720x432 with 1 Axes>"
      ]
     },
     "metadata": {
      "needs_background": "light"
     },
     "output_type": "display_data"
    }
   ],
   "source": [
    "fig, ax = plt.subplots(figsize=(10,6))\n",
    "bars = ax.bar(names, messages)\n",
    "\n",
    "\n",
    "\n",
    "# Axis formatting.\n",
    "ax.spines['top'].set_visible(False)\n",
    "ax.spines['right'].set_visible(False)\n",
    "ax.spines['left'].set_visible(False)\n",
    "ax.spines['bottom'].set_color('#DDDDDD')\n",
    "ax.tick_params(bottom=False, left=False)\n",
    "ax.set_axisbelow(True)\n",
    "ax.yaxis.grid(True, color='#EEEEEE')\n",
    "ax.xaxis.grid(False)\n",
    "\n",
    "bar_color = bars[0].get_facecolor()\n",
    "for bar in bars:\n",
    "      ax.text(\n",
    "      bar.get_x() + bar.get_width() / 2,\n",
    "      bar.get_height() + 2,\n",
    "      round(bar.get_height(), 1),\n",
    "      horizontalalignment='center',\n",
    "      color=bar_color,\n",
    "      weight='bold'\n",
    ")\n",
    "\n",
    "\n",
    "plt.xlabel('Contact', size=14, labelpad=10)\n",
    "plt.ylabel('Message Count', size=14, labelpad=15)\n",
    "ax.set_title('Contacts with most Deleted Messages', size=18, pad=15)\n",
    "plt.xticks(rotation=25)\n",
    "\n"
   ]
  },
  {
   "cell_type": "code",
   "execution_count": 4,
   "metadata": {},
   "outputs": [
    {
     "data": {
      "text/html": [
       "<div>\n",
       "<style scoped>\n",
       "    .dataframe tbody tr th:only-of-type {\n",
       "        vertical-align: middle;\n",
       "    }\n",
       "\n",
       "    .dataframe tbody tr th {\n",
       "        vertical-align: top;\n",
       "    }\n",
       "\n",
       "    .dataframe thead th {\n",
       "        text-align: right;\n",
       "    }\n",
       "</style>\n",
       "<table border=\"1\" class=\"dataframe\">\n",
       "  <thead>\n",
       "    <tr style=\"text-align: right;\">\n",
       "      <th></th>\n",
       "      <th>index</th>\n",
       "      <th>Date</th>\n",
       "      <th>Time</th>\n",
       "      <th>Text</th>\n",
       "      <th>Name</th>\n",
       "    </tr>\n",
       "  </thead>\n",
       "  <tbody>\n",
       "    <tr>\n",
       "      <th>34550</th>\n",
       "      <td>40033</td>\n",
       "      <td>25/06/20</td>\n",
       "      <td>3:01 pm</td>\n",
       "      <td>MediaShared</td>\n",
       "      <td>Harshit GPT BS93</td>\n",
       "    </tr>\n",
       "    <tr>\n",
       "      <th>24578</th>\n",
       "      <td>27218</td>\n",
       "      <td>13/03/20</td>\n",
       "      <td>2:48 pm</td>\n",
       "      <td>hame b bulana😂😂</td>\n",
       "      <td>Amit Yadav GPT</td>\n",
       "    </tr>\n",
       "    <tr>\n",
       "      <th>19830</th>\n",
       "      <td>21949</td>\n",
       "      <td>15/01/20</td>\n",
       "      <td>10:27 pm</td>\n",
       "      <td>😂😂😂😂</td>\n",
       "      <td>Riya</td>\n",
       "    </tr>\n",
       "    <tr>\n",
       "      <th>27851</th>\n",
       "      <td>32591</td>\n",
       "      <td>06/04/20</td>\n",
       "      <td>11:28 am</td>\n",
       "      <td>😂</td>\n",
       "      <td>Naitik Chem.</td>\n",
       "    </tr>\n",
       "    <tr>\n",
       "      <th>15223</th>\n",
       "      <td>16970</td>\n",
       "      <td>02/12/19</td>\n",
       "      <td>10:15 am</td>\n",
       "      <td>mail kiya h maine</td>\n",
       "      <td>RIDDHAM SADANA</td>\n",
       "    </tr>\n",
       "  </tbody>\n",
       "</table>\n",
       "</div>"
      ],
      "text/plain": [
       "       index      Date      Time               Text              Name\n",
       "34550  40033  25/06/20   3:01 pm        MediaShared  Harshit GPT BS93\n",
       "24578  27218  13/03/20   2:48 pm    hame b bulana😂😂    Amit Yadav GPT\n",
       "19830  21949  15/01/20  10:27 pm               😂😂😂😂              Riya\n",
       "27851  32591  06/04/20  11:28 am                  😂      Naitik Chem.\n",
       "15223  16970  02/12/19  10:15 am  mail kiya h maine    RIDDHAM SADANA"
      ]
     },
     "execution_count": 4,
     "metadata": {},
     "output_type": "execute_result"
    }
   ],
   "source": [
    "df.sample(5)"
   ]
  },
  {
   "cell_type": "code",
   "execution_count": 21,
   "metadata": {},
   "outputs": [
    {
     "data": {
      "text/html": [
       "<div>\n",
       "<style scoped>\n",
       "    .dataframe tbody tr th:only-of-type {\n",
       "        vertical-align: middle;\n",
       "    }\n",
       "\n",
       "    .dataframe tbody tr th {\n",
       "        vertical-align: top;\n",
       "    }\n",
       "\n",
       "    .dataframe thead th {\n",
       "        text-align: right;\n",
       "    }\n",
       "</style>\n",
       "<table border=\"1\" class=\"dataframe\">\n",
       "  <thead>\n",
       "    <tr style=\"text-align: right;\">\n",
       "      <th></th>\n",
       "      <th>index</th>\n",
       "      <th>Date</th>\n",
       "      <th>Time</th>\n",
       "      <th>Text</th>\n",
       "      <th>Name</th>\n",
       "      <th>TextLen</th>\n",
       "    </tr>\n",
       "  </thead>\n",
       "  <tbody>\n",
       "    <tr>\n",
       "      <th>0</th>\n",
       "      <td>0</td>\n",
       "      <td>27/07/19</td>\n",
       "      <td>9:34 pm</td>\n",
       "      <td>MediaShared</td>\n",
       "      <td>Aryan G</td>\n",
       "      <td>11</td>\n",
       "    </tr>\n",
       "    <tr>\n",
       "      <th>1</th>\n",
       "      <td>1</td>\n",
       "      <td>27/07/19</td>\n",
       "      <td>9:38 pm</td>\n",
       "      <td>kidhar krna hai inhe</td>\n",
       "      <td>Rishabh PI</td>\n",
       "      <td>20</td>\n",
       "    </tr>\n",
       "    <tr>\n",
       "      <th>2</th>\n",
       "      <td>2</td>\n",
       "      <td>27/07/19</td>\n",
       "      <td>9:38 pm</td>\n",
       "      <td>assignments ki alag notebook bnegi?</td>\n",
       "      <td>Rishabh PI</td>\n",
       "      <td>35</td>\n",
       "    </tr>\n",
       "    <tr>\n",
       "      <th>3</th>\n",
       "      <td>3</td>\n",
       "      <td>27/07/19</td>\n",
       "      <td>9:38 pm</td>\n",
       "      <td>make a seperate tutorial copy</td>\n",
       "      <td>Peeyush GT</td>\n",
       "      <td>29</td>\n",
       "    </tr>\n",
       "    <tr>\n",
       "      <th>4</th>\n",
       "      <td>4</td>\n",
       "      <td>27/07/19</td>\n",
       "      <td>9:39 pm</td>\n",
       "      <td>or assignment copy</td>\n",
       "      <td>Peeyush GT</td>\n",
       "      <td>18</td>\n",
       "    </tr>\n",
       "  </tbody>\n",
       "</table>\n",
       "</div>"
      ],
      "text/plain": [
       "   index      Date     Time                                 Text        Name  \\\n",
       "0      0  27/07/19  9:34 pm                          MediaShared     Aryan G   \n",
       "1      1  27/07/19  9:38 pm                 kidhar krna hai inhe  Rishabh PI   \n",
       "2      2  27/07/19  9:38 pm  assignments ki alag notebook bnegi?  Rishabh PI   \n",
       "3      3  27/07/19  9:38 pm        make a seperate tutorial copy  Peeyush GT   \n",
       "4      4  27/07/19  9:39 pm                   or assignment copy  Peeyush GT   \n",
       "\n",
       "   TextLen  \n",
       "0       11  \n",
       "1       20  \n",
       "2       35  \n",
       "3       29  \n",
       "4       18  "
      ]
     },
     "execution_count": 21,
     "metadata": {},
     "output_type": "execute_result"
    }
   ],
   "source": [
    "df.head(5)"
   ]
  },
  {
   "cell_type": "code",
   "execution_count": 28,
   "metadata": {},
   "outputs": [],
   "source": [
    "df['Time'] = pd.to_datetime(df['Time'], errors='coerce')"
   ]
  },
  {
   "cell_type": "code",
   "execution_count": 31,
   "metadata": {},
   "outputs": [],
   "source": [
    "df.dropna(inplace=True)"
   ]
  },
  {
   "cell_type": "code",
   "execution_count": 34,
   "metadata": {},
   "outputs": [],
   "source": [
    "df['Date'] = pd.to_datetime(df['Date'], errors='coerce')\n",
    "df.dropna(inplace=True)"
   ]
  },
  {
   "cell_type": "code",
   "execution_count": null,
   "metadata": {},
   "outputs": [],
   "source": []
  }
 ],
 "metadata": {
  "kernelspec": {
   "display_name": "Python 3",
   "language": "python",
   "name": "python3"
  },
  "language_info": {
   "codemirror_mode": {
    "name": "ipython",
    "version": 3
   },
   "file_extension": ".py",
   "mimetype": "text/x-python",
   "name": "python",
   "nbconvert_exporter": "python",
   "pygments_lexer": "ipython3",
   "version": "3.8.3"
  }
 },
 "nbformat": 4,
 "nbformat_minor": 4
}
