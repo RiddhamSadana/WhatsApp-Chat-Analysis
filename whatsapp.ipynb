{
 "cells": [
  {
   "cell_type": "code",
   "execution_count": 4,
   "metadata": {},
   "outputs": [],
   "source": [
    "import pandas as pd\n",
    "\n",
    "def text_to_csv(file):\n",
    "    \n",
    "    # take data ignoring bad lines\n",
    "    chat_df = pd.read_csv(file, header=None, error_bad_lines=False, encoding='utf-8')\n",
    "\n",
    "    # creating date and chat columns\n",
    "    chat_df.columns = ['Date', 'Chat']\n",
    "\n",
    "    # separating the time and message from the chat\n",
    "    Message = chat_df['Chat'].str.split('-', n=1, expand=True)\n",
    "    chat_df['Time'] = Message[0]\n",
    "    chat_df['Text'] = Message[1]\n",
    "\n",
    "    # separating name and textmsg from the Text\n",
    "    Message1 = chat_df['Text'].str.split(':', n=1, expand=True)\n",
    "    chat_df['Name'] = Message1[0]\n",
    "    chat_df['Text'] = Message1[1]\n",
    "\n",
    "    # converting textmsg to lower for easier analysis\n",
    "    chat_df.drop(columns=['Chat'], inplace=True)\n",
    "    chat_df['Text'] = chat_df['Text'].str.lower()\n",
    "\n",
    "    # replace media omitted tags with MediaShared and Deleted msgs with DeletedMsg\n",
    "    chat_df['Text'] = chat_df['Text'].str.replace('<media omitted>','MediaShared')\n",
    "    chat_df['Text'] = chat_df['Text'].str.replace('this message was deleted','DeletedMsg')\n",
    "\n",
    "    # store the data as a csv file for further analysis\n",
    "    return chat_df.to_csv('converted_csv.csv', index=False)"
   ]
  },
  {
   "cell_type": "code",
   "execution_count": null,
   "metadata": {},
   "outputs": [],
   "source": []
  }
 ],
 "metadata": {
  "kernelspec": {
   "display_name": "Python 3",
   "language": "python",
   "name": "python3"
  },
  "language_info": {
   "codemirror_mode": {
    "name": "ipython",
    "version": 3
   },
   "file_extension": ".py",
   "mimetype": "text/x-python",
   "name": "python",
   "nbconvert_exporter": "python",
   "pygments_lexer": "ipython3",
   "version": "3.8.3"
  }
 },
 "nbformat": 4,
 "nbformat_minor": 4
}
